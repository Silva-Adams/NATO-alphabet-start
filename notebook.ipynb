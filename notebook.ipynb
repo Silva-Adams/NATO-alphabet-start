{
 "cells": [
  {
   "cell_type": "code",
   "execution_count": 12,
   "id": "19873ac2",
   "metadata": {},
   "outputs": [],
   "source": [
    "student_dict = {\n",
    "    \"student\": [\"Angela\", \"James\", \"Lily\"], \n",
    "    \"score\": [56, 76, 98]\n",
    "}\n",
    "\n",
    "#Looping through dictionaries:\n",
    "for (key, value) in student_dict.items():\n",
    "    #Access key and value\n",
    "    pass\n",
    "\n",
    "import pandas\n",
    "student_data_frame = pandas.DataFrame(student_dict)\n",
    "\n",
    "#Loop through rows of a data frame\n",
    "for (index, row) in student_data_frame.iterrows():\n",
    "    #Access index and row\n",
    "    #Access row.student or row.score\n",
    "    pass\n",
    "\n",
    "# Keyword Method with iterrows()\n",
    "# {new_key:new_value for (index, row) in df.iterrows()}\n",
    "\n",
    "#TODO 1. Create a dictionary in this format:\n",
    "{\"A\": \"Alfa\", \"B\": \"Bravo\"}\n",
    "\n",
    "phonetic_dict = { row.letter: row.code for (index, row) in pandas.read_csv(\"nato_phonetic_alphabet.csv\").iterrows()}\n"
   ]
  },
  {
   "cell_type": "code",
   "execution_count": 10,
   "id": "28cfa690",
   "metadata": {},
   "outputs": [
    {
     "name": "stdout",
     "output_type": "stream",
     "text": [
      "['Sierra', 'Alpha', 'November', 'Delta', 'India', 'Lima', 'Echo']\n"
     ]
    }
   ],
   "source": [
    "#TODO 2. Create a list of the phonetic code words from a word that the user inputs.\n",
    "def generate_phonetic():\n",
    "    word = input(\"Enter a word: \").upper()\n",
    "    try:\n",
    "        phonetic_list = [phonetic_dict[letter] for letter in word]\n",
    "    except KeyError:\n",
    "        print(\"Sorry, only letters in the alphabet please.\")\n",
    "        generate_phonetic()\n",
    "    else:\n",
    "        print(phonetic_list)\n",
    "\n",
    "\n",
    "generate_phonetic()"
   ]
  },
  {
   "cell_type": "code",
   "execution_count": 8,
   "id": "96c5d1b5",
   "metadata": {},
   "outputs": [
    {
     "name": "stdout",
     "output_type": "stream",
     "text": [
      "   letter      code\n",
      "0       A     Alpha\n",
      "1       B     Bravo\n",
      "2       C   Charlie\n",
      "3       D     Delta\n",
      "4       E      Echo\n",
      "5       F   Foxtrot\n",
      "6       G      Golf\n",
      "7       H     Hotel\n",
      "8       I     India\n",
      "9       J    Juliet\n",
      "10      K      Kilo\n",
      "11      L      Lima\n",
      "12      M      Mike\n",
      "13      N  November\n",
      "14      O     Oscar\n",
      "15      P      Papa\n",
      "16      Q    Quebec\n",
      "17      R     Romeo\n",
      "18      S    Sierra\n",
      "19      T     Tango\n",
      "20      U   Uniform\n",
      "21      V    Victor\n",
      "22      W   Whiskey\n",
      "23      X     X-ray\n",
      "24      Y    Yankee\n",
      "25      Z      Zulu\n"
     ]
    }
   ],
   "source": [
    "data = pandas.read_csv(\"nato_phonetic_alphabet.csv\")\n",
    "print(data)"
   ]
  }
 ],
 "metadata": {
  "kernelspec": {
   "display_name": "base",
   "language": "python",
   "name": "python3"
  },
  "language_info": {
   "codemirror_mode": {
    "name": "ipython",
    "version": 3
   },
   "file_extension": ".py",
   "mimetype": "text/x-python",
   "name": "python",
   "nbconvert_exporter": "python",
   "pygments_lexer": "ipython3",
   "version": "3.12.7"
  }
 },
 "nbformat": 4,
 "nbformat_minor": 5
}
